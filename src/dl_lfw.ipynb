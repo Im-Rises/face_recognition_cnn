{
 "cells": [
  {
   "cell_type": "markdown",
   "source": [
    "# Labeled Faces In The Wild classification\n"
   ],
   "metadata": {
    "collapsed": false,
    "pycharm": {
     "name": "#%% md\n"
    }
   }
  },
  {
   "cell_type": "markdown",
   "source": [
    "## Desription\n",
    "\n",
    "The LFW (Labeled Faces In The Wild) dataset is composed of 5479 clases (different persons) for more than 13000 images."
   ],
   "metadata": {
    "collapsed": false,
    "pycharm": {
     "name": "#%% md\n"
    }
   }
  },
  {
   "cell_type": "markdown",
   "source": [],
   "metadata": {
    "collapsed": false,
    "pycharm": {
     "name": "#%% md\n"
    }
   }
  },
  {
   "cell_type": "code",
   "execution_count": 18,
   "outputs": [
    {
     "name": "stdout",
     "output_type": "stream",
     "text": [
      "Total dataset size:\n",
      "n_samples: 5985\n",
      "n_features: 11750\n",
      "n_classes: 423\n",
      "Image dimensions 94x125x1\n",
      "['Abdullah Gul' 'Adrien Brody' 'Ahmed Chalabi' 'Ai Sugiyama' 'Al Gore'\n",
      " 'Al Sharpton' 'Alan Greenspan' 'Alastair Campbell' 'Albert Costa'\n",
      " 'Alejandro Toledo' 'Ali Naimi' 'Allyson Felix' 'Alvaro Uribe'\n",
      " 'Amelia Vega' 'Amelie Mauresmo' 'Ana Guevara' 'Ana Palacio'\n",
      " 'Andre Agassi' 'Andy Roddick' 'Angela Bassett' 'Angela Merkel'\n",
      " 'Angelina Jolie' 'Ann Veneman' 'Anna Kournikova' 'Antonio Banderas'\n",
      " 'Antonio Palocci' 'Ari Fleischer' 'Ariel Sharon' 'Arminio Fraga'\n",
      " 'Arnold Schwarzenegger' 'Arnoldo Aleman' 'Ashanti' 'Atal Bihari Vajpayee'\n",
      " 'Ben Affleck' 'Benazir Bhutto' 'Benjamin Netanyahu' 'Bernard Law'\n",
      " 'Bertie Ahern' 'Bill Clinton' 'Bill Frist' 'Bill Gates' 'Bill Graham'\n",
      " 'Bill McBride' 'Bill Simon' 'Billy Crystal' 'Binyamin Ben-Eliezer'\n",
      " 'Bob Graham' 'Bob Hope' 'Bob Stoops' 'Boris Becker' 'Brad Johnson'\n",
      " 'Britney Spears' 'Bulent Ecevit' 'Calista Flockhart' 'Cameron Diaz'\n",
      " 'Carla Del Ponte' 'Carlos Menem' 'Carlos Moya' 'Carmen Electra'\n",
      " 'Carrie-Anne Moss' 'Catherine Deneuve' 'Catherine Zeta-Jones'\n",
      " 'Celine Dion' 'Cesar Gaviria' 'Chanda Rubin' 'Charles Moose'\n",
      " 'Charles Taylor' 'Charlton Heston' 'Chen Shui-bian' 'Choi Sung-hong'\n",
      " 'Christine Baumgartner' 'Christine Todd Whitman' 'Ciro Gomes'\n",
      " 'Clara Harris' 'Claudia Pechstein' 'Clay Aiken' 'Clint Eastwood'\n",
      " 'Colin Farrell' 'Colin Montgomerie' 'Colin Powell' 'Condoleezza Rice'\n",
      " 'Costas Simitis' 'Cruz Bustamante' 'David Anderson' 'David Beckham'\n",
      " 'David Heymann' 'David Nalbandian' 'David Trimble' 'David Wells'\n",
      " 'Dennis Hastert' 'Dennis Kucinich' 'Denzel Washington' 'Diana Krall'\n",
      " 'Dick Cheney' 'Dominique de Villepin' 'Donald Rumsfeld' 'Edmund Stoiber'\n",
      " 'Eduard Shevardnadze' 'Eduardo Duhalde' 'Edward Lu' 'Elizabeth Hurley'\n",
      " 'Elizabeth Smart' 'Elsa Zylberstein' 'Elton John' 'Emanuel Ginobili'\n",
      " 'Emma Watson' 'Enrique Bolanos' 'Erika Harold' 'Fernando Gonzalez'\n",
      " 'Fernando Henrique Cardoso' 'Fidel Castro' 'Frank Solich' 'Fujio Cho'\n",
      " 'Gene Robinson' 'Geoff Hoon' 'George Clooney' 'George HW Bush'\n",
      " 'George Lopez' 'George Pataki' 'George Robertson' 'George W Bush'\n",
      " 'Gerhard Schroeder' 'Gerry Adams' 'Gil de Ferran'\n",
      " 'Gloria Macapagal Arroyo' 'Goldie Hawn' 'Gonzalo Sanchez de Lozada'\n",
      " 'Gordon Brown' 'Grant Hackett' 'Gray Davis' 'Gregg Popovich'\n",
      " 'Guillermo Coria' 'Gunter Pleuger' 'Gwyneth Paltrow' 'Habib Rizieq'\n",
      " 'Hal Gehman' 'Halle Berry' 'Hamid Karzai' 'Hans Blix' 'Harrison Ford'\n",
      " 'Heidi Klum' 'Heizo Takenaka' 'Hillary Clinton' 'Hitomi Soga'\n",
      " 'Holly Hunter' 'Hosni Mubarak' 'Howard Dean' 'Hu Jintao' 'Hugh Grant'\n",
      " 'Hugo Chavez' 'Ian Thorpe' 'Igor Ivanov' 'JK Rowling' 'Jack Straw'\n",
      " 'Jackie Chan' 'Jacques Chirac' 'Jacques Rogge' 'Jake Gyllenhaal'\n",
      " 'James Blake' 'James Kelly' 'James Wolfensohn' 'Jan Ullrich' 'Jason Kidd'\n",
      " 'Javier Solana' 'Jay Garner' 'Jean Charest' 'Jean Chretien'\n",
      " 'Jean-David Levitte' 'Jean-Pierre Raffarin' 'Jeb Bush' 'Jelena Dokic'\n",
      " 'Jennifer Aniston' 'Jennifer Capriati' 'Jennifer Garner' 'Jennifer Lopez'\n",
      " 'Jeong Se-hyun' 'Jeremy Greenstock' 'Jesse Jackson' 'Jiang Zemin'\n",
      " 'Jim Furyk' 'Jimmy Carter' 'Jiri Novak' 'Joan Laporta' 'Joe Lieberman'\n",
      " 'John Abizaid' 'John Allen Muhammad' 'John Ashcroft' 'John Bolton'\n",
      " 'John Edwards' 'John Howard' 'John Kerry' 'John Manley' 'John McCain'\n",
      " 'John Negroponte' 'John Paul II' 'John Snow' 'John Stockton'\n",
      " 'John Travolta' 'Jon Gruden' 'Jonathan Edwards' 'Joschka Fischer'\n",
      " 'Jose Manuel Durao Barroso' 'Jose Maria Aznar' 'Jose Serra'\n",
      " 'Joseph Biden' 'Juan Carlos Ferrero' 'Juan Pablo Montoya'\n",
      " 'Julianne Moore' 'Julie Gerberding' 'Junichiro Koizumi'\n",
      " 'Justin Timberlake' 'Justine Pasek' 'Kalpana Chawla' 'Kamal Kharrazi'\n",
      " 'Kate Hudson' 'Keanu Reeves' 'Kevin Costner' 'Kevin Spacey'\n",
      " 'Kim Clijsters' 'Kim Dae-jung' 'Kim Ryong-sung' 'King Abdullah II'\n",
      " 'Kofi Annan' 'Kristanna Loken' 'Kurt Warner' 'Lance Armstrong'\n",
      " 'Lance Bass' 'Larry Brown' 'Laura Bush' 'LeBron James'\n",
      " 'Leonardo DiCaprio' 'Leonid Kuchma' 'Li Peng' 'Li Zhaoxing'\n",
      " 'Lindsay Davenport' 'Liza Minnelli' 'Lleyton Hewitt' 'Lucio Gutierrez'\n",
      " 'Lucy Liu' 'Ludivine Sagnier' 'Luis Ernesto Derbez Bautista'\n",
      " 'Luis Gonzalez Macchi' 'Luis Horna' 'Luiz Inacio Lula da Silva' 'Madonna'\n",
      " 'Mahathir Mohamad' 'Mahmoud Abbas' 'Marcelo Rios' 'Marco Antonio Barrera'\n",
      " 'Maria Shriver' 'Maria Soledad Alvear Valenzuela' 'Mariah Carey'\n",
      " 'Mark Hurlbert' 'Mark Philippoussis' 'Martha Stewart' 'Martin McGuinness'\n",
      " 'Martin Scorsese' 'Martina McBride' 'Matthew Perry'\n",
      " 'Megawati Sukarnoputri' 'Meryl Streep' 'Michael Bloomberg'\n",
      " 'Michael Chang' 'Michael Chiklis' 'Michael Douglas' 'Michael Jackson'\n",
      " 'Michael Phelps' 'Michael Powell' 'Michael Schumacher' 'Michelle Kwan'\n",
      " 'Michelle Yeoh' 'Mick Jagger' 'Mike Krzyzewski' 'Mike Martz' 'Mike Myers'\n",
      " 'Mike Weir' 'Mireya Moscoso' 'Mohamed ElBaradei' 'Mohammad Khatami'\n",
      " 'Mohammed Al-Douri' 'Monica Seles' 'Muhammad Ali'\n",
      " 'Muhammad Saeed al-Sahhaf' 'Nadia Petrova' 'Naji Sabri' 'Nancy Pelosi'\n",
      " 'Naomi Watts' 'Natalie Coughlin' 'Natalie Maines' 'Nestor Kirchner'\n",
      " 'Nia Vardalos' 'Nicanor Duarte Frutos' 'Nick Nolte' 'Nicole Kidman'\n",
      " 'Norah Jones' 'Norm Coleman' 'Oscar De La Hoya' 'Oswaldo Paya'\n",
      " 'Pamela Anderson' 'Paradorn Srichaphan' 'Paul Bremer' 'Paul Burrell'\n",
      " 'Paul Martin' 'Paul McCartney' 'Paul ONeill' 'Paul Wolfowitz'\n",
      " 'Paula Radcliffe' 'Pedro Almodovar' 'Pedro Malan' 'Pervez Musharraf'\n",
      " 'Pete Sampras' 'Peter Struck' 'Pierce Brosnan' 'Prince Charles'\n",
      " 'Princess Caroline' 'Queen Elizabeth II' 'Queen Rania'\n",
      " 'Rainer Schuettler' 'Ralf Schumacher' 'Ray Romano' 'Recep Tayyip Erdogan'\n",
      " 'Renee Zellweger' 'Ricardo Lagos' 'Ricardo Sanchez' 'Richard Armitage'\n",
      " 'Richard Gephardt' 'Richard Gere' 'Richard Myers' 'Richard Virenque'\n",
      " 'Rick Perry' 'Rob Marshall' 'Robert Blake' 'Robert De Niro'\n",
      " 'Robert Duvall' 'Robert Kocharian' 'Robert Mueller' 'Robert Redford'\n",
      " 'Robert Zoellick' 'Roger Federer' 'Roger Moore' 'Roh Moo-hyun'\n",
      " 'Roman Polanski' 'Romano Prodi' 'Ron Dittemore' 'Roy Moore'\n",
      " 'Rubens Barrichello' 'Rudolph Giuliani' 'Russell Simmons'\n",
      " 'Saddam Hussein' 'Salma Hayek' 'Sarah Hughes' 'Sarah Jessica Parker'\n",
      " 'Scott McClellan' 'Scott Peterson' 'Sean OKeefe' 'Serena Williams'\n",
      " 'Sergei Ivanov' 'Sergey Lavrov' 'Sergio Vieira De Mello' 'Sharon Stone'\n",
      " 'Sheryl Crow' 'Shimon Peres' 'Silvan Shalom' 'Silvio Berlusconi'\n",
      " 'Sophia Loren' 'Sourav Ganguly' 'Spencer Abraham' 'Steffi Graf'\n",
      " 'Steve Lavin' 'Steve Nash' 'Steven Spielberg' 'Susan Sarandon'\n",
      " 'Sylvester Stallone' 'Taha Yassin Ramadan' 'Tang Jiaxuan' 'Tariq Aziz'\n",
      " 'Thabo Mbeki' 'Thaksin Shinawatra' 'Thomas OBrien' 'Tiger Woods'\n",
      " 'Tim Henman' 'Tim Robbins' 'Tom Crean' 'Tom Cruise' 'Tom Daschle'\n",
      " 'Tom Hanks' 'Tom Harkin' 'Tom Ridge' 'Tommy Franks' 'Tommy Haas'\n",
      " 'Tommy Thompson' 'Tony Blair' 'Tony Stewart' 'Trent Lott' 'Tung Chee-hwa'\n",
      " 'Vaclav Havel' 'Valentino Rossi' 'Valery Giscard dEstaing'\n",
      " 'Vanessa Redgrave' 'Venus Williams' 'Vicente Fernandez' 'Vicente Fox'\n",
      " 'Victoria Clarke' 'Vincent Brooks' 'Vladimir Putin' 'Vojislav Kostunica'\n",
      " 'Walter Mondale' 'Wayne Ferreira' 'Wen Jiabao' 'William Donaldson'\n",
      " 'William Ford Jr' 'William Macy' 'Winona Ryder' 'Woody Allen'\n",
      " 'Xanana Gusmao' 'Xavier Malisse' 'Yao Ming' 'Yashwant Sinha'\n",
      " 'Yasser Arafat' 'Yoko Ono' 'Yoriko Kawaguchi' 'Zhu Rongji'\n",
      " 'Zinedine Zidane']\n"
     ]
    }
   ],
   "source": [
    "from sklearn.datasets import fetch_lfw_people\n",
    "\n",
    "lfw_people = fetch_lfw_people(min_faces_per_person=5, resize=1.0)\n",
    "\n",
    "n_samples, h, w = lfw_people.images.shape\n",
    "n_features = lfw_people.data.shape[1]\n",
    "\n",
    "X = lfw_people.images\n",
    "y = lfw_people.target\n",
    "\n",
    "target_names = lfw_people.target_names\n",
    "n_classes = target_names.shape[0]\n",
    "\n",
    "print(\"Total dataset size:\")\n",
    "print(\"n_samples: %d\" % n_samples)\n",
    "print(\"n_features: %d\" % n_features)\n",
    "print(\"n_classes: %d\" % n_classes)\n",
    "print(f\"Image dimensions {w}x{h}x1\")\n",
    "\n",
    "print(target_names)\n"
   ],
   "metadata": {
    "collapsed": false,
    "pycharm": {
     "name": "#%%\n"
    }
   }
  },
  {
   "cell_type": "code",
   "execution_count": 19,
   "outputs": [],
   "source": [
    "from sklearn.model_selection import train_test_split\n",
    "\n",
    "X_train, X_test, y_train, y_test = train_test_split(\n",
    "    X, y, test_size=0.25, random_state=42\n",
    ")\n",
    "\n",
    "# scaler = StandardScaler()\n",
    "# X_train = scaler.fit_transform(X_train)\n",
    "# X_test = scaler.transform(X_test)\n"
   ],
   "metadata": {
    "collapsed": false,
    "pycharm": {
     "name": "#%%\n"
    }
   }
  },
  {
   "cell_type": "code",
   "execution_count": 20,
   "outputs": [],
   "source": [
    "# from sklearn.decomposition import PCA\n",
    "#\n",
    "# n_components = 150\n",
    "# pca = PCA(n_components=n_components, svd_solver=\"randomized\", whiten=True).fit(X_train)\n",
    "# eigenfaces = pca.components_.reshape((n_components, h, w))\n",
    "# X_train_pca = pca.transform(X_train)\n",
    "# X_test_pca = pca.transform(X_test)\n"
   ],
   "metadata": {
    "collapsed": false,
    "pycharm": {
     "name": "#%%\n"
    }
   }
  },
  {
   "cell_type": "code",
   "execution_count": 21,
   "outputs": [],
   "source": [
    "from tensorflow import keras\n",
    "from keras.applications import ResNet50\n",
    "\n",
    "model = ResNet50\n",
    "preprocess_input = keras.applications.resnet.preprocess_input\n"
   ],
   "metadata": {
    "collapsed": false,
    "pycharm": {
     "name": "#%%\n"
    }
   }
  },
  {
   "cell_type": "code",
   "execution_count": 22,
   "outputs": [],
   "source": [
    "# from keras.preprocessing.image import ImageDataGenerator\n",
    "#\n",
    "# datagen = ImageDataGenerator(\n",
    "#     rotation_range=10,\n",
    "#     width_shift_range=0.1,\n",
    "#     height_shift_range=0.1,\n",
    "#     shear_range=0.05,\n",
    "#     zoom_range=0.1)\n"
   ],
   "metadata": {
    "collapsed": false,
    "pycharm": {
     "name": "#%%\n"
    }
   }
  },
  {
   "cell_type": "code",
   "execution_count": 25,
   "outputs": [
    {
     "ename": "ResourceExhaustedError",
     "evalue": "OOM when allocating tensor with shape[131072,5985] and type float on /job:localhost/replica:0/task:0/device:GPU:0 by allocator GPU_0_bfc [Op:RandomUniform]",
     "output_type": "error",
     "traceback": [
      "\u001B[1;31m---------------------------------------------------------------------------\u001B[0m",
      "\u001B[1;31mResourceExhaustedError\u001B[0m                    Traceback (most recent call last)",
      "Input \u001B[1;32mIn [25]\u001B[0m, in \u001B[0;36m<cell line: 21>\u001B[1;34m()\u001B[0m\n\u001B[0;32m     19\u001B[0m \u001B[38;5;66;03m# Add new dense layer at the end\u001B[39;00m\n\u001B[0;32m     20\u001B[0m x \u001B[38;5;241m=\u001B[39m Flatten()(out)\n\u001B[1;32m---> 21\u001B[0m x \u001B[38;5;241m=\u001B[39m \u001B[43mDense\u001B[49m\u001B[43m(\u001B[49m\u001B[43mn_samples\u001B[49m\u001B[43m,\u001B[49m\u001B[43m \u001B[49m\u001B[43mactivation\u001B[49m\u001B[38;5;241;43m=\u001B[39;49m\u001B[38;5;124;43m\"\u001B[39;49m\u001B[38;5;124;43msoftmax\u001B[39;49m\u001B[38;5;124;43m\"\u001B[39;49m\u001B[43m)\u001B[49m\u001B[43m(\u001B[49m\u001B[43mx\u001B[49m\u001B[43m)\u001B[49m\n\u001B[0;32m     23\u001B[0m model \u001B[38;5;241m=\u001B[39m Model(inputs\u001B[38;5;241m=\u001B[39mmodel\u001B[38;5;241m.\u001B[39minput, outputs\u001B[38;5;241m=\u001B[39mx)\n\u001B[0;32m     25\u001B[0m opti \u001B[38;5;241m=\u001B[39m SGD(\n\u001B[0;32m     26\u001B[0m     lr\u001B[38;5;241m=\u001B[39m\u001B[38;5;241m0.001\u001B[39m,\n\u001B[0;32m     27\u001B[0m     momentum\u001B[38;5;241m=\u001B[39m\u001B[38;5;241m0.9\u001B[39m,\n\u001B[0;32m     28\u001B[0m     nesterov\u001B[38;5;241m=\u001B[39m\u001B[38;5;28;01mTrue\u001B[39;00m,\n\u001B[0;32m     29\u001B[0m )\n",
      "File \u001B[1;32m~\\AppData\\Local\\Programs\\Python\\Python38\\lib\\site-packages\\keras\\utils\\traceback_utils.py:67\u001B[0m, in \u001B[0;36mfilter_traceback.<locals>.error_handler\u001B[1;34m(*args, **kwargs)\u001B[0m\n\u001B[0;32m     65\u001B[0m \u001B[38;5;28;01mexcept\u001B[39;00m \u001B[38;5;167;01mException\u001B[39;00m \u001B[38;5;28;01mas\u001B[39;00m e:  \u001B[38;5;66;03m# pylint: disable=broad-except\u001B[39;00m\n\u001B[0;32m     66\u001B[0m   filtered_tb \u001B[38;5;241m=\u001B[39m _process_traceback_frames(e\u001B[38;5;241m.\u001B[39m__traceback__)\n\u001B[1;32m---> 67\u001B[0m   \u001B[38;5;28;01mraise\u001B[39;00m e\u001B[38;5;241m.\u001B[39mwith_traceback(filtered_tb) \u001B[38;5;28;01mfrom\u001B[39;00m \u001B[38;5;28mNone\u001B[39m\n\u001B[0;32m     68\u001B[0m \u001B[38;5;28;01mfinally\u001B[39;00m:\n\u001B[0;32m     69\u001B[0m   \u001B[38;5;28;01mdel\u001B[39;00m filtered_tb\n",
      "File \u001B[1;32m~\\AppData\\Local\\Programs\\Python\\Python38\\lib\\site-packages\\keras\\backend.py:1920\u001B[0m, in \u001B[0;36mRandomGenerator.random_uniform\u001B[1;34m(self, shape, minval, maxval, dtype)\u001B[0m\n\u001B[0;32m   1917\u001B[0m \u001B[38;5;28;01mif\u001B[39;00m \u001B[38;5;28mself\u001B[39m\u001B[38;5;241m.\u001B[39m_generator:\n\u001B[0;32m   1918\u001B[0m   \u001B[38;5;28;01mreturn\u001B[39;00m \u001B[38;5;28mself\u001B[39m\u001B[38;5;241m.\u001B[39m_generator\u001B[38;5;241m.\u001B[39muniform(\n\u001B[0;32m   1919\u001B[0m       shape\u001B[38;5;241m=\u001B[39mshape, minval\u001B[38;5;241m=\u001B[39mminval, maxval\u001B[38;5;241m=\u001B[39mmaxval, dtype\u001B[38;5;241m=\u001B[39mdtype)\n\u001B[1;32m-> 1920\u001B[0m \u001B[38;5;28;01mreturn\u001B[39;00m \u001B[43mtf\u001B[49m\u001B[38;5;241;43m.\u001B[39;49m\u001B[43mrandom\u001B[49m\u001B[38;5;241;43m.\u001B[39;49m\u001B[43muniform\u001B[49m\u001B[43m(\u001B[49m\n\u001B[0;32m   1921\u001B[0m \u001B[43m    \u001B[49m\u001B[43mshape\u001B[49m\u001B[38;5;241;43m=\u001B[39;49m\u001B[43mshape\u001B[49m\u001B[43m,\u001B[49m\u001B[43m \u001B[49m\u001B[43mminval\u001B[49m\u001B[38;5;241;43m=\u001B[39;49m\u001B[43mminval\u001B[49m\u001B[43m,\u001B[49m\u001B[43m \u001B[49m\u001B[43mmaxval\u001B[49m\u001B[38;5;241;43m=\u001B[39;49m\u001B[43mmaxval\u001B[49m\u001B[43m,\u001B[49m\u001B[43m \u001B[49m\u001B[43mdtype\u001B[49m\u001B[38;5;241;43m=\u001B[39;49m\u001B[43mdtype\u001B[49m\u001B[43m,\u001B[49m\n\u001B[0;32m   1922\u001B[0m \u001B[43m    \u001B[49m\u001B[43mseed\u001B[49m\u001B[38;5;241;43m=\u001B[39;49m\u001B[38;5;28;43mself\u001B[39;49m\u001B[38;5;241;43m.\u001B[39;49m\u001B[43mmake_legacy_seed\u001B[49m\u001B[43m(\u001B[49m\u001B[43m)\u001B[49m\u001B[43m)\u001B[49m\n",
      "\u001B[1;31mResourceExhaustedError\u001B[0m: OOM when allocating tensor with shape[131072,5985] and type float on /job:localhost/replica:0/task:0/device:GPU:0 by allocator GPU_0_bfc [Op:RandomUniform]"
     ]
    }
   ],
   "source": [
    "from keras.optimizers import SGD\n",
    "from keras import Model\n",
    "from keras.layers import Flatten, Dense\n",
    "\n",
    "model = ResNet50(\n",
    "    input_shape=[250, 250, 3],\n",
    "    weights=\"imagenet\",\n",
    "    include_top=False,\n",
    "    classes=n_samples,\n",
    ")\n",
    "\n",
    "# Freeze existing VGG already trained weights\n",
    "for layer in model.layers[: 10]:\n",
    "    layer.trainable = False\n",
    "\n",
    "# get the VGG output\n",
    "out = model.output\n",
    "\n",
    "# Add new dense layer at the end\n",
    "x = Flatten()(out)\n",
    "x = Dense(n_samples, activation=\"softmax\")(x)\n",
    "\n",
    "model = Model(inputs=model.input, outputs=x)\n",
    "\n",
    "opti = SGD(\n",
    "    lr=0.001,\n",
    "    momentum=0.9,\n",
    "    nesterov=True,\n",
    ")\n",
    "\n",
    "model.compile(loss=\"categorical_crossentropy\", optimizer=opti, metrics=[\"accuracy\"])\n",
    "\n",
    "model.summary()\n"
   ],
   "metadata": {
    "collapsed": false,
    "pycharm": {
     "name": "#%%\n"
    }
   }
  },
  {
   "cell_type": "code",
   "execution_count": null,
   "outputs": [],
   "source": [
    "X_train, X_test, y_train, y_test = train_test_split(X, y, test_size=0.2, stratify=y, random_state=42)\n",
    "\n",
    "model.fit(X_train, y_train, X_test, y_test)\n"
   ],
   "metadata": {
    "collapsed": false,
    "pycharm": {
     "name": "#%%\n"
    }
   }
  },
  {
   "cell_type": "code",
   "execution_count": null,
   "outputs": [],
   "source": [
    "model.save('weights.h5')\n"
   ],
   "metadata": {
    "collapsed": false,
    "pycharm": {
     "name": "#%%\n"
    }
   }
  },
  {
   "cell_type": "code",
   "execution_count": null,
   "outputs": [],
   "source": [],
   "metadata": {
    "collapsed": false,
    "pycharm": {
     "name": "#%%\n"
    }
   }
  }
 ],
 "metadata": {
  "kernelspec": {
   "display_name": "Python 3",
   "language": "python",
   "name": "python3"
  },
  "language_info": {
   "codemirror_mode": {
    "name": "ipython",
    "version": 2
   },
   "file_extension": ".py",
   "mimetype": "text/x-python",
   "name": "python",
   "nbconvert_exporter": "python",
   "pygments_lexer": "ipython2",
   "version": "2.7.6"
  }
 },
 "nbformat": 4,
 "nbformat_minor": 0
}